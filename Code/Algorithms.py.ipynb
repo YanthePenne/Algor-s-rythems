{
 "cells": [
  {
   "cell_type": "code",
   "execution_count": null,
   "id": "bc7d7c2c",
   "metadata": {},
   "outputs": [],
   "source": [
    "#   source visualization: https://www.youtube.com/watch?v=twRidO-_vqQ"
   ]
  },
  {
   "cell_type": "code",
   "execution_count": 10,
   "id": "ea417afb",
   "metadata": {},
   "outputs": [],
   "source": [
    "# This is a document with algorithms and data structures\n",
    "import random\n",
    "\n",
    "from numpy import sort"
   ]
  },
  {
   "cell_type": "markdown",
   "id": "9a368fdb",
   "metadata": {},
   "source": [
    "# Data structures\n"
   ]
  },
  {
   "cell_type": "code",
   "execution_count": 11,
   "id": "da256a98",
   "metadata": {},
   "outputs": [],
   "source": [
    "data_sorted = [0, 1, 2, 3, 4, 5, 6, 7, 8, 9]\n",
    "data_unsorted = [2, 7, 3, 5, 1, 0, 9, 6, 4, 8]\n",
    "data_dictionary_sorted = {\"a\": 1, \"b\": 2, \"c\": 3,\n",
    "                          \"d\": 4, \"e\": 5, \"f\": 6, \"g\": 7, \"h\": 8, \"i\": 9, \"j\": 0}"
   ]
  },
  {
   "cell_type": "markdown",
   "id": "62e6ddba",
   "metadata": {},
   "source": [
    "# Searching Algorithms\n"
   ]
  },
  {
   "cell_type": "markdown",
   "id": "83c3479a",
   "metadata": {},
   "source": [
    "## Lineair search\n"
   ]
  },
  {
   "cell_type": "code",
   "execution_count": 12,
   "id": "1ff2a48f",
   "metadata": {},
   "outputs": [],
   "source": [
    "# Search each and every element of the array till you find the required element\n",
    "#\n",
    "# Input: List\n",
    "# Output: Index of searched item\n",
    "# Time Complexity: O (n)\n",
    "def linear_search(list, item):\n",
    "    for x in range(0, len(list)-1):\n",
    "        if list[x] == item:\n",
    "            return x\n",
    "    return False"
   ]
  },
  {
   "cell_type": "markdown",
   "id": "63fc7f00",
   "metadata": {},
   "source": [
    "## Binary Search\n"
   ]
  },
  {
   "cell_type": "code",
   "execution_count": 13,
   "id": "c85383b6",
   "metadata": {},
   "outputs": [],
   "source": [
    "# Searches for the element by comparing it with the middle item of the sorted array.\n",
    "# If a match occurs, index is returned,\n",
    "# else the searching area is reduced appropriately to either the upper half or lower half of the array\n",
    "#\n",
    "# Input: Sorted List\n",
    "# Output: Index of searched item\n",
    "# Time Complexity: O (log2n)\n",
    "def binary_search(list, item):\n",
    "    print(list)\n",
    "    if (len(list) <= 1):\n",
    "        return 0\n",
    "\n",
    "    index = len(list)//2\n",
    "    split = list[index]\n",
    "    list_left = list[:index]\n",
    "    list_right = list[index:]\n",
    "\n",
    "    if (split > item):\n",
    "        return binary_search(list_left, item)\n",
    "    elif (split < item):\n",
    "        return binary_search(list_right, item) + index\n",
    "    return index"
   ]
  },
  {
   "cell_type": "markdown",
   "id": "72a174a6",
   "metadata": {},
   "source": [
    "# Sorting algorithms\n"
   ]
  },
  {
   "cell_type": "markdown",
   "id": "06d60b44",
   "metadata": {},
   "source": [
    "## Hulp Functie\n"
   ]
  },
  {
   "cell_type": "code",
   "execution_count": 14,
   "id": "b25febd5",
   "metadata": {},
   "outputs": [],
   "source": [
    "def swap(list, index1, index2):\n",
    "    list[index1], list[index2] = list[index2], list[index1]"
   ]
  },
  {
   "cell_type": "markdown",
   "id": "05ad5359",
   "metadata": {},
   "source": [
    "## Bubble sort\n"
   ]
  },
  {
   "cell_type": "code",
   "execution_count": 15,
   "id": "2f324e1f",
   "metadata": {},
   "outputs": [
    {
     "name": "stdout",
     "output_type": "stream",
     "text": [
      "[2, 7, 3, 5, 1, 0, 9, 6, 4, 8]\n",
      "[2, 3, 5, 1, 0, 7, 6, 4, 8, 9]\n",
      "[2, 3, 1, 0, 5, 6, 4, 7, 8, 9]\n",
      "[2, 1, 0, 3, 5, 4, 6, 7, 8, 9]\n",
      "[1, 0, 2, 3, 4, 5, 6, 7, 8, 9]\n",
      "[0, 1, 2, 3, 4, 5, 6, 7, 8, 9]\n",
      "[0, 1, 2, 3, 4, 5, 6, 7, 8, 9]\n",
      "[0, 1, 2, 3, 4, 5, 6, 7, 8, 9]\n",
      "[0, 1, 2, 3, 4, 5, 6, 7, 8, 9]\n",
      "[0, 1, 2, 3, 4, 5, 6, 7, 8, 9]\n",
      "[0, 1, 2, 3, 4, 5, 6, 7, 8, 9]\n"
     ]
    }
   ],
   "source": [
    "# Works by swapping adjacent elements in repeated passes,\n",
    "# if they are not in correct order.High time complexity and not suitable for large datasets\n",
    "# Time Complexity: O (n2)\n",
    "def bubble_sort(unsorted_list):\n",
    "    n = len(unsorted_list)\n",
    "    while (n > 0):\n",
    "        print(unsorted_list)\n",
    "        for i in range(1, len(unsorted_list)):\n",
    "            if (unsorted_list[i - 1] > unsorted_list[i]):\n",
    "                swap(unsorted_list, i, i - 1)\n",
    "        n = n - 1\n",
    "\n",
    "\n",
    "data_unsorted = [2, 7, 3, 5, 1, 0, 9, 6, 4, 8]\n",
    "bubble_sort(data_unsorted)\n",
    "print(data_unsorted)"
   ]
  },
  {
   "cell_type": "markdown",
   "id": "885d6745",
   "metadata": {},
   "source": [
    "## Insertion Sort\n"
   ]
  },
  {
   "cell_type": "code",
   "execution_count": 16,
   "id": "4c482e7f",
   "metadata": {},
   "outputs": [],
   "source": [
    "# The array is split into sorted and unsorted parts.\n",
    "#  Unsorted elements are picked and placed at their correct position in the sorted part\n",
    "#\n",
    "# Time Complexity: O (n2)\n",
    "def insertion_sort(unsorted_list):\n",
    "    for i in range(1, len(unsorted_list)):\n",
    "        i_val = unsorted_list[i]\n",
    "        prev = i - 1\n",
    "        # looping previously sorted items in the list\n",
    "        while prev >= 0 and unsorted_list[prev] < i_val:\n",
    "            unsorted_list[prev + 1] = unsorted_list[prev]\n",
    "            prev -= 1\n",
    "        unsorted_list[prev + 1] = i_val"
   ]
  },
  {
   "cell_type": "markdown",
   "id": "a77ebc7a",
   "metadata": {},
   "source": [
    "## Selection Sort\n"
   ]
  },
  {
   "cell_type": "code",
   "execution_count": 17,
   "id": "294a9e1d",
   "metadata": {},
   "outputs": [],
   "source": [
    "# The smallest value among the unsorted elements of the array\n",
    "#  is selected in every pass and inserted to its appropriate position into the array\n",
    "# Time Complexity: O (n2)\n",
    "def selection_sort(unsorted_list):\n",
    "    n = len(unsorted_list)\n",
    "\n",
    "    for i in range(0, n):\n",
    "        min_index = i\n",
    "        swap = False\n",
    "        for x in range(i + 1, n):\n",
    "            if (unsorted_list[x] < unsorted_list[min_index]):\n",
    "                min_index = x\n",
    "                swap == True\n",
    "\n",
    "        if (swap == True):\n",
    "            swap(unsorted_list, i, min_index)"
   ]
  },
  {
   "cell_type": "markdown",
   "id": "c39b8d43",
   "metadata": {},
   "source": [
    "## Merge Sort"
   ]
  },
  {
   "cell_type": "code",
   "execution_count": null,
   "id": "8c726116",
   "metadata": {},
   "outputs": [],
   "source": [
    "def merge_sort(arr):\n",
    "  # base case\n",
    "  if len(arr) <= 1:\n",
    "    return arr\n",
    "  # recursive case\n",
    "  # split array in half and call merge sort recursively on each half\n",
    "  mid = len(arr) // 2\n",
    "  # divide\n",
    "  left = arr[:mid]\n",
    "  right = arr[mid:]\n",
    "  \n",
    "  # conquer\n",
    "  left = merge_sort(left)\n",
    "  right = merge_sort(right)\n",
    "  \n",
    "  # combine\n",
    "  return merge(left, right)\n",
    "\n",
    "def merge(left, right):\n",
    "  # merge two sorted lists\n",
    "  result = []\n",
    "  i = j = 0\n",
    "  \n",
    "  # iterate through both lists and add the smallest element to the result list\n",
    "  while i < len(left) and j < len(right):\n",
    "    if left[i] < right[j]:\n",
    "      result.append(left[i])\n",
    "      i += 1\n",
    "    else:\n",
    "      result.append(right[j])\n",
    "      j += 1\n",
    "  \n",
    "  # add the remaining elements of left and right to the result list\n",
    "  while i < len(left):\n",
    "    result.append(left[i])\n",
    "    i += 1\n",
    "  # add the remaining elements of left and right to the result list\n",
    "  while j < len(right):\n",
    "    result.append(right[j])\n",
    "    j += 1\n",
    "  \n",
    "  return result\n",
    "\n",
    "data_unsorted = [2, 7, 3, 5, 1, 0, 9, 6, 4, 8]\n",
    "data_sorted = merge_sort(data_unsorted)\n",
    "print(data_sorted)\n"
   ]
  },
  {
   "cell_type": "markdown",
   "id": "ca578af4",
   "metadata": {},
   "source": [
    "## Quick Sort"
   ]
  },
  {
   "cell_type": "code",
   "execution_count": 1,
   "id": "94a6e109",
   "metadata": {},
   "outputs": [
    {
     "name": "stdout",
     "output_type": "stream",
     "text": [
      "[0, 1, 2, 3, 4, 5, 6, 7, 8, 9]\n"
     ]
    }
   ],
   "source": [
    "def quick_sort(arr):\n",
    "  # base case\n",
    "  if len(arr) <= 1:\n",
    "    return arr\n",
    "  # recursive case\n",
    "  # find the pivot, let's choose the middle element\n",
    "  pivot = arr[len(arr) // 2]\n",
    "  # partition the array into left and right parts\n",
    "  # left part contains all elements < pivot\n",
    "  # right part contains all elements > pivot\n",
    "  # middle part contains all elements == pivot\n",
    "  left = [x for x in arr if x < pivot]\n",
    "  middle = [x for x in arr if x == pivot]\n",
    "  right = [x for x in arr if x > pivot]\n",
    "  # recursively sort left and right parts\n",
    "  return quick_sort(left) + middle + quick_sort(right)\n",
    "\n",
    "data_unsorted = [2, 7, 3, 5, 1, 0, 9, 6, 4, 8]\n",
    "data_sorted = quick_sort(data_unsorted)\n",
    "print(data_sorted)\n"
   ]
  }
 ],
 "metadata": {
  "kernelspec": {
   "display_name": "Python 3 (ipykernel)",
   "language": "python",
   "name": "python3"
  },
  "language_info": {
   "codemirror_mode": {
    "name": "ipython",
    "version": 3
   },
   "file_extension": ".py",
   "mimetype": "text/x-python",
   "name": "python",
   "nbconvert_exporter": "python",
   "pygments_lexer": "ipython3",
   "version": "3.11.6"
  }
 },
 "nbformat": 4,
 "nbformat_minor": 5
}
